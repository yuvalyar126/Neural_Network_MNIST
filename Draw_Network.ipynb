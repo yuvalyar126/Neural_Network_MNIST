{
 "cells": [
  {
   "cell_type": "code",
   "execution_count": 1,
   "outputs": [],
   "source": [
    "import numpy as np\n",
    "import matplotlib.pyplot as plt\n",
    "import pandas as pd\n",
    "import cv2\n",
    "from tkinter import *\n",
    "from PIL import Image, ImageDraw\n",
    "from sklearn.utils import shuffle\n",
    "from sklearn.model_selection import train_test_split"
   ],
   "metadata": {
    "collapsed": false,
    "ExecuteTime": {
     "end_time": "2024-07-22T13:31:21.375754600Z",
     "start_time": "2024-07-22T13:31:18.310214900Z"
    }
   },
   "id": "af665424de86fbdb"
  },
  {
   "cell_type": "code",
   "execution_count": 2,
   "outputs": [],
   "source": [
    "# Class for the neural network \n",
    "class NeuralNetwork:\n",
    "    def __init__(self, layers, batch_size, learning_rate, iterations):\n",
    "        self.layers = layers\n",
    "        self.batch_size = batch_size\n",
    "        self.learning_rate = learning_rate\n",
    "        self.iterations = iterations\n",
    "        self.params = self.init_params()\n",
    "\n",
    "    def init_params(self):\n",
    "        params = {}\n",
    "        for i in range(1, len(self.layers)):\n",
    "            params[f'W{i}'] = np.random.randn(self.layers[i], self.layers[i - 1]) * np.sqrt(2. / self.layers[i - 1])\n",
    "            params[f'b{i}'] = np.zeros((self.layers[i], 1))\n",
    "        return params\n",
    "\n",
    "    def ReLU(self, Z):\n",
    "        return np.maximum(Z, 0)\n",
    "\n",
    "    def softmax(self, Z):\n",
    "        expZ = np.exp(Z - np.max(Z))\n",
    "        return expZ / expZ.sum(axis=0, keepdims=True)\n",
    "\n",
    "    def forward_prop(self, X):\n",
    "        intermediate_results = {'A0': X}\n",
    "        A = X\n",
    "        for i in range(1, len(self.layers) - 1):\n",
    "            Z = self.params[f'W{i}'] @ A + self.params[f'b{i}']\n",
    "            A = self.ReLU(Z)\n",
    "            intermediate_results[f'Z{i}'] = Z\n",
    "            intermediate_results[f'A{i}'] = A\n",
    "        Z = self.params[f'W{len(self.layers) - 1}'] @ A + self.params[f'b{len(self.layers) - 1}']\n",
    "        A = self.softmax(Z)\n",
    "        intermediate_results[f'Z{len(self.layers) - 1}'] = Z\n",
    "        intermediate_results[f'A{len(self.layers) - 1}'] = A\n",
    "        return intermediate_results\n",
    "\n",
    "    def backward_prop(self, intermediate_results, X, Y):\n",
    "        gradients = {}\n",
    "        one_hot_Y = self.one_hot(Y)\n",
    "        m = X.shape[1]\n",
    "        A_last = intermediate_results[f'A{len(self.layers) - 1}']\n",
    "        dZ = A_last - one_hot_Y\n",
    "        gradients[f'dW{len(self.layers) - 1}'] = 1 / m * dZ @ intermediate_results[f'A{len(self.layers) - 2}'].T\n",
    "        gradients[f'db{len(self.layers) - 1}'] = 1 / m * np.sum(dZ, axis=1, keepdims=True)\n",
    "        for i in range(len(self.layers) - 2, 0, -1):\n",
    "            dZ = (self.params[f'W{i + 1}'].T @ dZ) * self.ReLU_deriv(intermediate_results[f'Z{i}'])\n",
    "            gradients[f'dW{i}'] = 1 / m * dZ @ intermediate_results[f'A{i - 1}'].T\n",
    "            gradients[f'db{i}'] = 1 / m * np.sum(dZ, axis=1, keepdims=True)\n",
    "        return gradients\n",
    "\n",
    "    def ReLU_deriv(self, Z):\n",
    "        return Z > 0\n",
    "\n",
    "    def cross_entropy(self, one_hot_Y, pred_Y):\n",
    "        m = one_hot_Y.shape[1]\n",
    "        return -np.sum(one_hot_Y * np.log(pred_Y)) / m\n",
    "\n",
    "    def one_hot(self, Y):\n",
    "        one_hot_Y = np.zeros((self.layers[-1], Y.size))\n",
    "        one_hot_Y[Y, np.arange(Y.size)] = 1\n",
    "        return one_hot_Y\n",
    "\n",
    "    def update_params(self, gradients):\n",
    "        for i in range(1, len(self.layers)):\n",
    "            self.params[f'W{i}'] -= self.learning_rate * gradients[f'dW{i}']\n",
    "            self.params[f'b{i}'] -= self.learning_rate * gradients[f'db{i}']\n",
    "\n",
    "    def fit(self, X, Y):\n",
    "        for i in range(self.iterations):\n",
    "            X, Y = shuffle(X.T, Y)\n",
    "            X = X.T\n",
    "            batches = [(X[:, k:k + self.batch_size], Y[k:k + self.batch_size]) for k in\n",
    "                       range(0, X.shape[1], self.batch_size)]\n",
    "            for batch_X, batch_Y in batches:\n",
    "                intermediate_results = self.forward_prop(batch_X)\n",
    "                gradients = self.backward_prop(intermediate_results, batch_X, batch_Y)\n",
    "                self.update_params(gradients)\n",
    "\n",
    "    def predict(self, X):\n",
    "        intermediate_results = self.forward_prop(X)\n",
    "        A_last = intermediate_results[f'A{len(self.layers) - 1}']\n",
    "        return np.argmax(A_last, axis=0)\n",
    "\n",
    "    def score(self, X, Y):\n",
    "        predictions = self.predict(X)\n",
    "        return np.mean(predictions == Y)\n"
   ],
   "metadata": {
    "collapsed": false,
    "ExecuteTime": {
     "end_time": "2024-07-22T13:31:21.391289700Z",
     "start_time": "2024-07-22T13:31:21.376754800Z"
    }
   },
   "id": "df5ceb0d2bb8014f"
  },
  {
   "cell_type": "code",
   "execution_count": 3,
   "outputs": [
    {
     "name": "stdout",
     "output_type": "stream",
     "text": [
      "Validation accuracy: 0.9788333333333333\n",
      "Test accuracy: 0.98\n"
     ]
    }
   ],
   "source": [
    "\n",
    "# Load datasets\n",
    "train_data = pd.read_csv('MNIST-train.csv')\n",
    "test_data = pd.read_csv('MNIST-test.csv')\n",
    "\n",
    "# Shuffle and split the training data\n",
    "train_data = train_data.sample(frac=1).reset_index(drop=True)\n",
    "test_data = test_data.sample(frac=1).reset_index(drop=True)\n",
    "\n",
    "X_train_full = train_data.iloc[:, :-1].values  # Features (all columns except the last one)\n",
    "y_train_full = train_data.iloc[:, -1].values  # Labels (last column)\n",
    "\n",
    "# Split into training (90%) and validation (10%) sets\n",
    "X_train, X_val, y_train, y_val = train_test_split(X_train_full, y_train_full, test_size=0.1, random_state=42)\n",
    "\n",
    "# Normalize the data\n",
    "X_train = X_train / 255.0\n",
    "X_val = X_val / 255.0\n",
    "X_test = test_data.iloc[:, :-1].values / 255.0\n",
    "y_test = test_data.iloc[:, -1].values\n",
    "\n",
    "# Transpose to match the format\n",
    "X_train = X_train.T\n",
    "X_val = X_val.T\n",
    "X_test = X_test.T\n",
    "\n",
    "nn = NeuralNetwork(layers=[784, 256, 64, 10], batch_size=32, learning_rate=0.1, iterations=10)\n",
    "\n",
    "nn.fit(X_train, y_train)\n",
    "\n",
    "# Validate the model\n",
    "val_accuracy = nn.score(X_val, y_val)\n",
    "print(f\"Validation accuracy: {val_accuracy}\")\n",
    "\n",
    "# Test the model\n",
    "test_accuracy = nn.score(X_test, y_test)\n",
    "print(f\"Test accuracy: {test_accuracy}\")"
   ],
   "metadata": {
    "collapsed": false,
    "ExecuteTime": {
     "end_time": "2024-07-22T13:32:08.186365500Z",
     "start_time": "2024-07-22T13:31:21.395279Z"
    }
   },
   "id": "25f4b8b32c9c0a83"
  },
  {
   "cell_type": "code",
   "execution_count": 4,
   "outputs": [],
   "source": [
    "def prepare(filepath):\n",
    "    \"\"\"\n",
    "    Prepares the image for prediction by reading it, converting to grayscale, resizing to 28x28, and normalizing\n",
    "    \n",
    "    :param filepath: The path to the image file.\n",
    "    :return: normalized 28x28 numpy array representing the image\n",
    "    \"\"\"\n",
    "    size = 28\n",
    "    img_array = cv2.imread(filepath, cv2.IMREAD_GRAYSCALE)\n",
    "    new_array = cv2.resize(img_array, (size, size))\n",
    "    return new_array.reshape(size, size) / 255.0\n",
    "\n",
    "\n",
    "def save():\n",
    "    \"\"\"\n",
    "    Saves the drawn image, processes it for prediction, displays it, and prints the prediction to the scrreen\n",
    "    \"\"\"\n",
    "    filename = \"image.jpg\"\n",
    "    image1.save(filename)\n",
    "    root.destroy()\n",
    "    processed_image = prepare(\"image.jpg\")\n",
    "    plt.imshow(processed_image, cmap=plt.cm.binary, interpolation='nearest')\n",
    "    plt.show()\n",
    "    processed_image = processed_image.reshape(784, 1)\n",
    "    prediction = nn.predict(processed_image)\n",
    "    print(f\"Prediction: {prediction[0]}\")\n",
    "\n",
    "\n",
    "def paint(event):\n",
    "    \"\"\"\n",
    "    This function lets you draw on the canvas by creating a grey rectangle where you drag the mouse \n",
    "    \n",
    "    :param event: The event object with details about the mouse event.\n",
    "    \"\"\"\n",
    "    x1, y1 = (event.x - 3), (event.y - 3)\n",
    "    x2, y2 = (event.x + 3), (event.y + 3)\n",
    "    cv.create_rectangle(x1, y1, x2, y2, fill=\"grey\")\n",
    "    draw.line([x1, y1, x2, y2], fill=\"grey\", width=18)\n"
   ],
   "metadata": {
    "collapsed": false,
    "ExecuteTime": {
     "end_time": "2024-07-22T13:32:08.188364300Z",
     "start_time": "2024-07-22T13:32:08.182304800Z"
    }
   },
   "id": "90b647ff5b501ab1"
  },
  {
   "cell_type": "code",
   "execution_count": 5,
   "outputs": [
    {
     "data": {
      "text/plain": "<Figure size 640x480 with 1 Axes>",
      "image/png": "[encoded data removed]"
     },
     "metadata": {},
     "output_type": "display_data"
    },
    {
     "name": "stdout",
     "output_type": "stream",
     "text": [
      "Prediction: 2\n"
     ]
    },
    {
     "data": {
      "text/plain": "<Figure size 640x480 with 1 Axes>",
      "image/png": "[encoded data removed]"
     },
     "metadata": {},
     "output_type": "display_data"
    },
    {
     "name": "stdout",
     "output_type": "stream",
     "text": [
      "Prediction: 2\n"
     ]
    },
    {
     "data": {
      "text/plain": "<Figure size 640x480 with 1 Axes>",
      "image/png": "[encoded data removed]"
     },
     "metadata": {},
     "output_type": "display_data"
    },
    {
     "name": "stdout",
     "output_type": "stream",
     "text": [
      "Prediction: 6\n"
     ]
    },
    {
     "data": {
      "text/plain": "<Figure size 640x480 with 1 Axes>",
      "image/png": "[encoded data removed]"
     },
     "metadata": {},
     "output_type": "display_data"
    },
    {
     "name": "stdout",
     "output_type": "stream",
     "text": [
      "Prediction: 5\n"
     ]
    },
    {
     "data": {
      "text/plain": "<Figure size 640x480 with 1 Axes>",
      "image/png": "[encoded data removed]"
     },
     "metadata": {},
     "output_type": "display_data"
    },
    {
     "name": "stdout",
     "output_type": "stream",
     "text": [
      "Prediction: 4\n"
     ]
    },
    {
     "ename": "KeyboardInterrupt",
     "evalue": "",
     "output_type": "error",
     "traceback": [
      "\u001B[1;31m---------------------------------------------------------------------------\u001B[0m",
      "\u001B[1;31mKeyboardInterrupt\u001B[0m                         Traceback (most recent call last)",
      "Cell \u001B[1;32mIn[5], line 15\u001B[0m\n\u001B[0;32m     13\u001B[0m button \u001B[38;5;241m=\u001B[39m Button(text\u001B[38;5;241m=\u001B[39m\u001B[38;5;124m\"\u001B[39m\u001B[38;5;124msave\u001B[39m\u001B[38;5;124m\"\u001B[39m, command\u001B[38;5;241m=\u001B[39msave)\n\u001B[0;32m     14\u001B[0m button\u001B[38;5;241m.\u001B[39mpack()\n\u001B[1;32m---> 15\u001B[0m \u001B[43mroot\u001B[49m\u001B[38;5;241;43m.\u001B[39;49m\u001B[43mmainloop\u001B[49m\u001B[43m(\u001B[49m\u001B[43m)\u001B[49m\n",
      "File \u001B[1;32m~\\AppData\\Local\\Programs\\Python\\Python312\\Lib\\tkinter\\__init__.py:1504\u001B[0m, in \u001B[0;36mMisc.mainloop\u001B[1;34m(self, n)\u001B[0m\n\u001B[0;32m   1502\u001B[0m \u001B[38;5;28;01mdef\u001B[39;00m \u001B[38;5;21mmainloop\u001B[39m(\u001B[38;5;28mself\u001B[39m, n\u001B[38;5;241m=\u001B[39m\u001B[38;5;241m0\u001B[39m):\n\u001B[0;32m   1503\u001B[0m \u001B[38;5;250m    \u001B[39m\u001B[38;5;124;03m\"\"\"Call the mainloop of Tk.\"\"\"\u001B[39;00m\n\u001B[1;32m-> 1504\u001B[0m     \u001B[38;5;28;43mself\u001B[39;49m\u001B[38;5;241;43m.\u001B[39;49m\u001B[43mtk\u001B[49m\u001B[38;5;241;43m.\u001B[39;49m\u001B[43mmainloop\u001B[49m\u001B[43m(\u001B[49m\u001B[43mn\u001B[49m\u001B[43m)\u001B[49m\n",
      "\u001B[1;31mKeyboardInterrupt\u001B[0m: "
     ]
    }
   ],
   "source": [
    "for i in range(11):\n",
    "    width = 200\n",
    "    height = 200\n",
    "    black = (0, 0, 0)\n",
    "    white = (255, 255, 255)\n",
    "    root = Tk()\n",
    "    cv = Canvas(root, width=width, height=height, bg='white')\n",
    "    cv.pack()\n",
    "    image1 = Image.new(\"RGB\", (width, height), black)\n",
    "    draw = ImageDraw.Draw(image1)\n",
    "    cv.pack(expand=YES, fill=BOTH)\n",
    "    cv.bind(\"<B1-Motion>\", paint)\n",
    "    button = Button(text=\"save\", command=save)\n",
    "    button.pack()\n",
    "    root.mainloop()"
   ],
   "metadata": {
    "collapsed": true,
    "ExecuteTime": {
     "end_time": "2024-07-22T13:33:18.877200100Z",
     "start_time": "2024-07-22T13:32:08.191365900Z"
    }
   },
   "id": "initial_id"
  }
 ],
 "metadata": {
  "kernelspec": {
   "display_name": "Python 3",
   "language": "python",
   "name": "python3"
  },
  "language_info": {
   "codemirror_mode": {
    "name": "ipython",
    "version": 2
   },
   "file_extension": ".py",
   "mimetype": "text/x-python",
   "name": "python",
   "nbconvert_exporter": "python",
   "pygments_lexer": "ipython2",
   "version": "2.7.6"
  }
 },
 "nbformat": 4,
 "nbformat_minor": 5
}
